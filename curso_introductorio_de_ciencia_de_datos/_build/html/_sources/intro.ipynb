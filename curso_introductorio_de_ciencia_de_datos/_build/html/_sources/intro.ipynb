{
 "cells": [
  {
   "cell_type": "markdown",
   "metadata": {
    "slideshow": {
     "slide_type": "slide"
    }
   },
   "source": [
    "# Clase 1: Introducción\n",
    "**Primeras ideas sobre la Ciencia de Datos**\n",
    "\n",
    "Giovanni D. Rottoli, PhD."
   ]
  },
  {
   "cell_type": "markdown",
   "metadata": {
    "slideshow": {
     "slide_type": "slide"
    }
   },
   "source": [
    "## Fuentes de datos\n",
    "\n",
    "- En los últimos 20 años, los datos han acaparado todo aspecto de la vida humana. \n",
    "- Se obtienen datos de múltiples fuentes distintas, en grandes cantidades y en formatos diversos.\n",
    "  \n",
    "![sources.png](./images/introduccion/sources.png)"
   ]
  },
  {
   "cell_type": "markdown",
   "metadata": {
    "slideshow": {
     "slide_type": "slide"
    }
   },
   "source": [
    "## Generación de datos\n",
    "\n",
    "- La velocidad con la que se generan los datos ha ido aumentando\n",
    "- Se obtienen datos de múltiples fuentes distintas y en formatos de lo más diversos.\n",
    "\n",
    "![Data Never Sleeps Report 2023: https://www.domo.com/learn/infographic/data-never-sleeps-11](./images/introduccion/velocity.png)\n",
    "\n"
   ]
  },
  {
   "cell_type": "markdown",
   "metadata": {
    "slideshow": {
     "slide_type": "slide"
    }
   },
   "source": [
    "## Big Data\n",
    "\n",
    "El fenómeno Big Data se describe con 3 V:\n",
    "\n",
    "- Variedad\n",
    "- Velocidad\n",
    "- Volumen\n",
    "  \n",
    "Estos conceptos son dinámicos.\n",
    "\n",
    "![bigdata.png](./images/introduccion/bigdata.png)"
   ]
  },
  {
   "cell_type": "markdown",
   "metadata": {
    "slideshow": {
     "slide_type": "slide"
    }
   },
   "source": [
    "## Minería de datos\n",
    "\n",
    "La minería de datos nos permite extraer conocimiento implícito en los datos. \n",
    "\n",
    "![juegaono.png](./images/introduccion/juegaono.png)\n",
    "\n"
   ]
  },
  {
   "cell_type": "markdown",
   "metadata": {
    "slideshow": {
     "slide_type": "slide"
    }
   },
   "source": [
    "## Problemas\n",
    "\n",
    "- Son necesarias herramientas eficientes para poder analizar bases de datos de gran volumen en un tiempo aceptable.\n",
    "- Son necesarias técnicas para analizar datos de distintos tipos y orígenes.\n",
    "- Es necesaria una metodología para abordar el análisis de forma sistematizada. "
   ]
  },
  {
   "cell_type": "markdown",
   "metadata": {
    "slideshow": {
     "slide_type": "slide"
    }
   },
   "source": [
    "## Definiciones\n",
    "\n",
    "Los conceptos utilizados en la disciplina varían según los autores.\n",
    "\n",
    "Vamos a proponer un conjunto de definiciones para utilizar en este curso.\n",
    "\n"
   ]
  },
  {
   "cell_type": "markdown",
   "metadata": {
    "slideshow": {
     "slide_type": "slide"
    }
   },
   "source": [
    "### Jerarquía del conocimiento\n",
    "\n",
    "![piramide.png](./images/introduccion/piramide.png)"
   ]
  },
  {
   "cell_type": "markdown",
   "metadata": {
    "slideshow": {
     "slide_type": "subslide"
    }
   },
   "source": [
    "#### Datos\n",
    "\n",
    "- Son observaciones o hechos  discretos y objetivos, que se encuentran desorganizados y necesitan ser procesados. \n",
    "- No poseen significado o valor, ya que carecen de contexto e interpretaciones.\n"
   ]
  },
  {
   "cell_type": "markdown",
   "metadata": {
    "slideshow": {
     "slide_type": "subslide"
    }
   },
   "source": [
    "#### Información\n",
    "\n",
    "- Se obtiene a partir de datos procesados y contextualizados.\n",
    "- La información posee sentido y es relevante para algún propósito.\n",
    "- La información posee valor y utilidad para la toma de decisiones accionables. \n",
    "- Permite responder preguntas: ¿Quién? ¿Qué? ¿Dónde? ¿Cuántos? ¿Cuándo?"
   ]
  },
  {
   "cell_type": "markdown",
   "metadata": {
    "slideshow": {
     "slide_type": "subslide"
    }
   },
   "source": [
    "#### Conocimiento\n",
    "\n",
    "- Es información organizada, contextualizada y estructurada.\n",
    "- Sintetiza múltiples fuentes de información.\n",
    "- Provee entendimiento, experiencia y aprendizaje acumulado sobre un fenómeno dado."
   ]
  },
  {
   "cell_type": "markdown",
   "metadata": {
    "slideshow": {
     "slide_type": "slide"
    }
   },
   "source": [
    "### Ciencia de datos\n",
    "\n",
    "Disciplina de la informática y de las ciencias computacionales, que brinda a la inteligencia de negocios herramientas para obtener conocimiento no trivial a partir de datos disponibles en repositorios digitales."
   ]
  },
  {
   "cell_type": "markdown",
   "metadata": {
    "slideshow": {
     "slide_type": "subslide"
    }
   },
   "source": [
    "#### Herramientas\n",
    "\n",
    "- Estadísticas: descriptores estadísticos, test de hipótesis, etc.\n",
    "- Visualizaciones: organización visual de los datos.\n",
    "- Inteligencia Artificial\n",
    "- Gestión de proyectos\n",
    "  \n",
    "![Ciencia de datos.png](<./images/introduccion/Ciencia_de_datos.png>)"
   ]
  },
  {
   "cell_type": "markdown",
   "metadata": {
    "slideshow": {
     "slide_type": "subslide"
    }
   },
   "source": [
    "### Inteligencia Artificial\n",
    "\n",
    "La inteligencia artificial es una disciplina de la informática que se busque desarrollar sistemas que sean capaces de realizar tareas que normalmente requieren inteligencia humana. Por ejemplo, el aprendizaje, el razonamiento y la percepción."
   ]
  },
  {
   "cell_type": "markdown",
   "metadata": {
    "slideshow": {
     "slide_type": "subslide"
    }
   },
   "source": [
    "### Minería de datos\n",
    "\n",
    "Conjunto de algoritmos de aprendizaje automático (inteligencia artificial) que buscan patrones o regularidades relevantes en conjuntos de datos, obteniendo así conocimiento a partir de los mismos. "
   ]
  },
  {
   "cell_type": "markdown",
   "metadata": {
    "slideshow": {
     "slide_type": "slide"
    }
   },
   "source": [
    "## Metodologías para proyectos de Ciencia de Datos\n",
    "\n",
    "- La Ciencia de Datos es una disciplina completa\n",
    "- Requiere comprender los problemas de negocio y determinar los abordajes necesarios para solucionarlos.\n",
    "- Incluye análisis del problema, adquisición y preparación de los datos, selección y aplicación de algoritmos, entre otros. \n",
    "- Se requiere administrar los recursos para llevar adelante el proyecto de una forma sistematizada."
   ]
  },
  {
   "cell_type": "markdown",
   "metadata": {
    "slideshow": {
     "slide_type": "subslide"
    }
   },
   "source": [
    "### Proceso KDD\n",
    "\n",
    "- Knowledge Discovery on Databases (Fayyad, 1996)\n",
    "- Ciclo de vida: Cascada.\n",
    "- Enfocado en los datos y la aplicación de algoritmos.\n",
    "- Ignora los aspectos del dominio del problema. \n",
    "\n",
    "![kdd.png](./images/introduccion/kdd.png)"
   ]
  },
  {
   "cell_type": "markdown",
   "metadata": {
    "slideshow": {
     "slide_type": "subslide"
    }
   },
   "source": [
    "### CRISP-DM\n",
    "\n",
    "- Cross Industry Standard Process for Data Mining\n",
    "- Estructura Jerárquica \n",
    "- Ciclo de vida: Iterativo Incremental\n",
    "- Retroalimentaciones entre fases\n",
    "  \n",
    "![crispdm.png](./images/introduccion/crispdm.png)"
   ]
  },
  {
   "cell_type": "markdown",
   "metadata": {
    "slideshow": {
     "slide_type": "slide"
    }
   },
   "source": [
    "## Problemas\n",
    "\n",
    "La ciencia de datos resulta útil en múltiples escenarios distintos. \n",
    "\n",
    "Veamos algunos de ellos:"
   ]
  },
  {
   "cell_type": "markdown",
   "metadata": {
    "slideshow": {
     "slide_type": "subslide"
    }
   },
   "source": [
    "### Salud\n",
    "\n",
    "* Soporte al diagnóstico: \n",
    "  * identificación de patrones entre enfermedades y síntomas\n",
    "  * detección de anomalías en imágenes de diagnóstico (radiografías, tomografías, electrocardiogramas, etc.)\n",
    "* Creación de tratamientos personalizados\n",
    "* Diseño de medicamentos\n",
    "* Detección de focos de contagio"
   ]
  },
  {
   "cell_type": "markdown",
   "metadata": {
    "slideshow": {
     "slide_type": "subslide"
    }
   },
   "source": [
    "### Transporte y logística\n",
    "\n",
    "* Modelo de patrones de tráfico\n",
    "* Planificación de servicios de transporte público\n",
    "* Optimización de rutas de entrega (Uber eats)"
   ]
  },
  {
   "cell_type": "markdown",
   "metadata": {
    "slideshow": {
     "slide_type": "subslide"
    }
   },
   "source": [
    "### Deportes\n",
    "\n",
    "* Diseño de estrategias de juego\n",
    "* Análisis de métricas de desempeño\n",
    "* Creación de planes de entrenamiento personalizados."
   ]
  },
  {
   "cell_type": "markdown",
   "metadata": {
    "slideshow": {
     "slide_type": "subslide"
    }
   },
   "source": [
    "### Gobierno\n",
    "\n",
    "* Detección de fraude impositivo\n",
    "* Análisis de la opinion ciudadana\n",
    "* Reducción de la burocracia\n",
    "* Aseguramiento de la identidad "
   ]
  },
  {
   "cell_type": "markdown",
   "metadata": {
    "slideshow": {
     "slide_type": "subslide"
    }
   },
   "source": [
    "### Comercio\n",
    "\n",
    "* Creación de publicidad \"a medida\".\n",
    "* Creación de promociones personalizadas.\n",
    "* Creación de perfiles de clientes.\n",
    "* Predicción de intereses de los clientes (sistemas recomendadores).\n",
    "* Diseño de productos.\n",
    "* Identificación de tendencias temporales en las ventas. "
   ]
  },
  {
   "cell_type": "markdown",
   "metadata": {
    "slideshow": {
     "slide_type": "subslide"
    }
   },
   "source": [
    "### Energía\n",
    "\n",
    "* Predicción de demanda.\n",
    "* Optimización de generación de energía."
   ]
  },
  {
   "cell_type": "markdown",
   "metadata": {
    "slideshow": {
     "slide_type": "subslide"
    }
   },
   "source": [
    "### Ciencia y tecnología\n",
    "\n",
    "* Detección de cuerpos celestes (Gauss, Método de los mínimos cuadrados)\n",
    "* Diseño de nuevos materiales.\n",
    "* Diseño de medicamentos\n",
    "* Conducción autónoma de vehículos espaciales\n",
    "* Descubrimiento de nuevas especies animales / vegetales\n",
    "* entre otros!"
   ]
  },
  {
   "cell_type": "markdown",
   "metadata": {
    "slideshow": {
     "slide_type": "slide"
    }
   },
   "source": [
    "## Ética y ciencia de datos\n",
    "\n",
    "* Los datos tienen un impacto enorme en nuestra vida diaria, directa o indirectamente. \n",
    "* Por este impacto, es menester considerar los aspectos éticos alrededor del uso de estas tecnologías.\n",
    "* Veamos casos particulares."
   ]
  },
  {
   "cell_type": "markdown",
   "metadata": {
    "slideshow": {
     "slide_type": "subslide"
    }
   },
   "source": [
    "### Toma de decisiones\n",
    "\n",
    "* El conocimiento obtenido brinda una guía para la toma de decisiones.\n",
    "* Estas decisiones pueden afectar la vida de las personas\n",
    "* Debemos asegurarnos de que el conocimiento sea correcto, los datos no se encuentren sesgados, y las técnicas usadas sean confiables.\n",
    "* Se debe evitar utilizar datos sobre raza, género, sexualidad, religión, o cualquier categoría que pueda segregar negativamente. "
   ]
  },
  {
   "cell_type": "markdown",
   "metadata": {
    "slideshow": {
     "slide_type": "subslide"
    }
   },
   "source": [
    "### Privacidad y confidencialidad\n",
    "\n",
    "* Se deben utilizar datos con el permiso de sus dueños, los mismos usuarios en caso de que sean datos personales.\n",
    "* Aún si se consciente el uso de los datos, no significa que estos datos se deban hacer públicos.\n",
    "* La seguridad de los datos es clave.\n",
    "* En muchos casos, es factible anonimizar los datos para trabajar con ellos sin identificar a quién corresponden."
   ]
  },
  {
   "cell_type": "markdown",
   "metadata": {
    "slideshow": {
     "slide_type": "subslide"
    }
   },
   "source": [
    "### Transparencia\n",
    "\n",
    "* Tanto los procesos de recolección, almacenamiento, procesamiento, transformación y modelado de datos deben estar bien documentados.\n",
    "* En algunos casos, los modelos deben ser suficientemente explicativos y comprensibles para saber por qué se toman las decisiones que se toman.\n"
   ]
  },
  {
   "cell_type": "markdown",
   "metadata": {
    "slideshow": {
     "slide_type": "subslide"
    }
   },
   "source": [
    "#### Fuentes adicionales \n",
    "\n",
    "* UNESCO (2022). Recommendation on the Ethics of Artificial Intelligence. ONLINE: https://unesdoc.unesco.org/ark:/48223/pf0000381137_spa"
   ]
  }
 ],
 "metadata": {
  "kernelspec": {
   "display_name": "base",
   "language": "python",
   "name": "python3"
  },
  "language_info": {
   "name": "python",
   "version": "3.9.13"
  }
 },
 "nbformat": 4,
 "nbformat_minor": 2
}
