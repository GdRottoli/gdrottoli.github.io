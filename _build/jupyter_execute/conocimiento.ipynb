{
 "cells": [
  {
   "cell_type": "markdown",
   "metadata": {
    "slideshow": {
     "slide_type": "slide"
    }
   },
   "source": [
    "# Clase 3: Conocimiento de los datos\n",
    "\n",
    "Giovanni D. Rottoli, PhD."
   ]
  },
  {
   "cell_type": "markdown",
   "metadata": {
    "slideshow": {
     "slide_type": "subslide"
    }
   },
   "source": [
    "## Recordemos...\n",
    "\n",
    "![crispdm.png](./images/introduccion/crispdm.png)"
   ]
  },
  {
   "cell_type": "markdown",
   "metadata": {
    "slideshow": {
     "slide_type": "subslide"
    }
   },
   "source": [
    "## Recordemos...\n",
    "\n",
    "![entendimiento_datos.png](./images/crispdm/entendimiento_datos.png)"
   ]
  },
  {
   "cell_type": "markdown",
   "metadata": {
    "slideshow": {
     "slide_type": "slide"
    }
   },
   "source": [
    "## Datos"
   ]
  },
  {
   "cell_type": "markdown",
   "metadata": {
    "slideshow": {
     "slide_type": "subslide"
    }
   },
   "source": [
    "### Datos estructurados vs no-estructurados\n",
    "\n",
    "* Un conjunto de datos es estructurado si poseen un esquema predefinido.\n",
    "* Todas las entidades de la base de datos poseen valores para un mismo conjunto de atributos. \n",
    "* Se pueden relacionar unas entidades con otras mediante atributos relacionales."
   ]
  },
  {
   "cell_type": "markdown",
   "metadata": {
    "slideshow": {
     "slide_type": "fragment"
    }
   },
   "source": [
    "### Datos estructurados vs no-estructurados\n",
    "\n",
    "* Un conjunto de datos no estructurado, no posee un modelo o esquema de datos pre-establecido.\n",
    "* Pueden ser de varios tipos: texto, imágenes, video, audio, correos electrónicos, etc.\n",
    "* Por lo general, los algoritmos de minería de datos requieren cierta estructura, por lo que se deben preprocesar para extraer características y descriptores."
   ]
  },
  {
   "cell_type": "markdown",
   "metadata": {
    "slideshow": {
     "slide_type": "subslide"
    }
   },
   "source": [
    "### Datos No-Dependientes Vs Datos Dependientes\n",
    "\n",
    "* Cada entidad de la base de datos posee un conjunto de atributos que la describe. \n",
    "* Son datos, generalmente, estructurados."
   ]
  },
  {
   "cell_type": "markdown",
   "metadata": {
    "slideshow": {
     "slide_type": "fragment"
    }
   },
   "source": [
    "### Datos No-Dependientes Vs Datos Dependientes\n",
    "\n",
    "* Cada entidad de la base de datos posee dos tipos de atributos: \n",
    "  * Atributos de comportamiento, que describen a la entidad en si, tal como en una base de datos no-dependiente.\n",
    "  * Atributos contextuales, que permiten contextualizar los valores de los atributos de comportamiento.\n",
    "  \n",
    "  Por ejemplo, datos espaciales, datos temporales, datos espaciotemporales, imágenes, textos, audios, etc."
   ]
  },
  {
   "cell_type": "markdown",
   "metadata": {
    "slideshow": {
     "slide_type": "slide"
    }
   },
   "source": [
    "## Fuentes de datos\n",
    "\n",
    "* Las fuentes de datos son de lo más variadas.\n",
    "* Muchas son bien conocidas y extraer los datos de dicha fuente resulta trivial\n",
    "* Otras requieren de procesamiento adicional."
   ]
  },
  {
   "cell_type": "markdown",
   "metadata": {
    "slideshow": {
     "slide_type": "subslide"
    }
   },
   "source": [
    "### Archivos \n",
    "\n",
    "* CSV, TSV, etc.\n",
    "* Planillas de cálculo (Excel), \n",
    "* Código fuente, \n",
    "* Texto en PDF, \n",
    "* Formularios, \n",
    "* Imágenes, \n",
    "* Archivos de audio, \n",
    "* archivos de video.\n",
    "* etc...etc...etc..."
   ]
  },
  {
   "cell_type": "markdown",
   "metadata": {
    "slideshow": {
     "slide_type": "subslide"
    }
   },
   "source": [
    "### Bases de datos\n",
    "\n",
    "Las bases de datos son almacenes electrónicos de datos que permiten realizar gestionar estos datos de forma más eficiente mediante distintas estrategias, como el uso de índices de consulta, por ejemplo.\n",
    "\n",
    "#### SQL\n",
    "\n",
    "PostgreSQL, MYSQL, etc. \n",
    "\n",
    "#### NO-SQL\n",
    "\n",
    "* Documentales (MongoDB)\n",
    "* Grafos (Neo4J)\n",
    "* Clave-valor (Redis)\n",
    "* Columnares (Cassandra)\n",
    "* Vectoriales (Qdrant)\n",
    "* Etc. etc. etc."
   ]
  },
  {
   "cell_type": "markdown",
   "metadata": {
    "slideshow": {
     "slide_type": "subslide"
    }
   },
   "source": [
    "### Repositorios digitales\n",
    "\n",
    "* Repositorios de imágenes\n",
    "* Repositorios de audio\n",
    "* Repositorios de video"
   ]
  },
  {
   "cell_type": "markdown",
   "metadata": {
    "slideshow": {
     "slide_type": "subslide"
    }
   },
   "source": [
    "### Páginas web y redes sociales\n",
    "\n",
    "* Utilizando APIS \n",
    "* Scrapping"
   ]
  },
  {
   "cell_type": "markdown",
   "metadata": {
    "slideshow": {
     "slide_type": "slide"
    }
   },
   "source": [
    "## Descripción de los datos\n",
    "\n",
    "* Para comprender mejor los datos con los que trabajamos, debemos describirlos.\n",
    "* No solo se deben describir los **orígenes** de los datos, sino también:\n",
    "  * **Tipo** de datos\n",
    "  * **Composición** de la base de datos (Cantidad de entidades, por ejemplo)\n",
    "  * **Atributos**\n",
    "    * Tipos, valores, distribución, relaciones."
   ]
  },
  {
   "cell_type": "markdown",
   "metadata": {
    "slideshow": {
     "slide_type": "subslide"
    }
   },
   "source": [
    "### Tipos de atributos\n",
    "\n",
    "Al igual que con los datos, podemos utilizar varias categorizaciones.\n",
    "\n",
    "* Por ejemplo, podemos clasificarlos según su rol: atributos de comportamiento y atributos contextuales.\n",
    "* O según la naturaleza de sus datos: cuantitativos vs cualitativos.\n",
    "* O según su codificación: numéricos vs categóricos.\n"
   ]
  },
  {
   "cell_type": "markdown",
   "metadata": {
    "slideshow": {
     "slide_type": "subslide"
    }
   },
   "source": [
    "### Según su naturaleza\n",
    "\n",
    "#### Cuantitativos\n",
    "\n",
    "Expresan una cantidad y, generalmente, se codifican mediante números naturales o reales.\n",
    "Por ejemplo: \n",
    "* Edad\n",
    "* Altura\n",
    "* Peso\n",
    "* Precio\n",
    "\n",
    "#### Cualitativos\n",
    "\n",
    "Expresan una cualidad de la entidad, y se codifican, generalmente, mediante etiquetas.\n",
    "Por ejemplo:\n",
    "* Color\n",
    "* Estado civil\n",
    "* Nacionalidad"
   ]
  },
  {
   "cell_type": "markdown",
   "metadata": {
    "slideshow": {
     "slide_type": "subslide"
    }
   },
   "source": [
    "### Según su codificación\n",
    "\n",
    "#### Datos numéricos\n",
    "\n",
    "Toma valores de conjuntos numéricos discretos o contínuos, finitos o infinitos, como los Reales, los Naturales, los Enteros, valores booleanos, etc.\n",
    "\n",
    "#### Datos categóricos\n",
    "\n",
    "Toma valores de conjuntos finitos de categorías, como conjunto de estados civiles, conjunto de nacionalidades, Verdadero o Falso, etc."
   ]
  },
  {
   "cell_type": "markdown",
   "metadata": {
    "slideshow": {
     "slide_type": "subslide"
    }
   },
   "source": [
    "#### Datos Binarios\n",
    "\n",
    "Toman valores de un conjunto de cardinalidad 2:\n",
    "\n",
    "* Simétricos: Si ambos valores tienen el mismo peso o relevancia: $$\\{\\text{Argentino}, \\text{Extranjero} \\}$$\n",
    "* Asimétricos: Si uno de los valores tiene más relevancia que el otro en el dominio del problema:  $$\\{\\text{Seropositivo}, \\text{Seronegativo} \\}$$\n",
    "\n",
    "Son generalmente categóricos, aunque se los puede representar de forma numérica con los valores 0 y 1."
   ]
  },
  {
   "cell_type": "markdown",
   "metadata": {
    "slideshow": {
     "slide_type": "subslide"
    }
   },
   "source": [
    "### Datos Ordinales\n",
    "\n",
    "* Toman valores de un conjunto ordenado y son, generalmente, categóricos, aunque se los puede codificar de forma numérica.\n",
    "\n",
    "* Por ejemplo: $$ \\{\\text{Infante}, \\text{Adolescente}, \\text{Adulto}, \\text{Anciano} \\} $$\n",
    "* La distancia entre cada par de valores se puede calcular a partir del órden. \n",
    "* Se pueden obtener de discretizar atributos contínuos (Edad, por ejemplo.)\n",
    "* Se deben tratar como valores cualitativos aunque su codificación sea numérica (No se puede calcular el promedio, por ejemplo.)\n",
    "\n"
   ]
  },
  {
   "cell_type": "markdown",
   "metadata": {
    "slideshow": {
     "slide_type": "slide"
    }
   },
   "source": [
    "## Exploración de los datos\n",
    "\n",
    "La exploración de los datos busca determinar el comportamiento de estos atributos, para comprender cómo se distribuyen sus valores e identificar posibles tendencias.\n",
    "\n",
    "Por ejemplo, algunos algoritmos necesitan que los atributos que utilicemos no estén correlacionados, por lo que deberemos analizar esto."
   ]
  },
  {
   "cell_type": "markdown",
   "metadata": {},
   "source": [
    "\n",
    "### Descriptores estadísticos\n",
    "\n",
    "#### Medidas de tendencia central\n",
    "\n",
    "* **Promedio**: Dado un conjunto de observaciones $D=X_1, X_2, \\cdots , X_n$, el promedio es: $ \\bar{X} = \\frac{ \\sum X_i}{n} $\n",
    "* **Mediana**: Es el valor que parte el conjunto de datos, ordenado, en dos partes de igual cardinalidad. \n",
    "* **Moda**: Valor más común o de mayor frecuencia en la base de datos.\n"
   ]
  },
  {
   "cell_type": "markdown",
   "metadata": {},
   "source": [
    "![sesgos.png](./images/conocimiento/sesgos.png)"
   ]
  },
  {
   "cell_type": "markdown",
   "metadata": {},
   "source": [
    "#### Medidas de dispersión\n",
    "\n",
    "* **Varianza**: $$ \\sigma^2 = \\frac{1}{n} \\sum(x_i - \\bar{x})^2 $$\n",
    "* **Desviación estandar**: $$ \\sigma = \\sqrt{\\sigma^2} $$\n",
    "* **Rango**: $$Max(X) - Min(X) $$\n",
    "* **Cuartiles**: Dividen el rango en 4 partes de igual tamaño. "
   ]
  },
  {
   "cell_type": "markdown",
   "metadata": {},
   "source": [
    "![3sigma.png](./images/conocimiento/3sigma.png)"
   ]
  },
  {
   "cell_type": "markdown",
   "metadata": {},
   "source": [
    "![rango.png](./images/conocimiento/rango.png)"
   ]
  },
  {
   "cell_type": "markdown",
   "metadata": {},
   "source": [
    "#### Medidas de forma\n",
    "\n",
    "* **Curtosis**: Indica que tan apuntada o achatada se encuentra una distribución respecto a un comportamiento normal (distribución normal).\n",
    "* **Asimetría**: Mide el grado de asimetría de la distribución con respecto a la media. \n",
    "\n",
    "![curtosis.png](./images/conocimiento/curtosis.png)"
   ]
  },
  {
   "cell_type": "markdown",
   "metadata": {
    "slideshow": {
     "slide_type": "slide"
    }
   },
   "source": [
    "## Visualización de datos\n",
    "\n",
    "* Una visualización es cualquier tipo de presentación visual de los datos de una base de datos.\n",
    "* Permiten comprender ciertas propiedades de los datos, como la distribución de valores de sus atributos o relaciones entre los mismos.\n",
    "* Nos valoremos de la capacidad humana de detectar patrones de forma visual.\n",
    "\n",
    "![simps.png](./images/conocimiento/simps.png)\n"
   ]
  },
  {
   "cell_type": "markdown",
   "metadata": {
    "slideshow": {
     "slide_type": "subslide"
    }
   },
   "source": [
    "#### Ventajas\n",
    "\n",
    "* Podemos procesar información visualmente de forma muy rápida.\n",
    "* Se puede compartir esta información de forma eficiente.\n",
    "* Existe una ámplia variedad de gráficos para detectar distintos tipos de patrones o comportamientos. "
   ]
  },
  {
   "cell_type": "markdown",
   "metadata": {},
   "source": [
    "#### Desventajas\n",
    "\n",
    "* Las visualizaciones pueden funcionar bien para comprender fenómenos globales.\n",
    "* Con muchos datos, se pueden esconder anomalías.\n",
    "* Las conclusiones que obtenemos pueden estar sesgadas o ser incorrectas.\n",
    "* Demasiados datos juntos pueden ocasionar problemas de interpretación. \n",
    "\n"
   ]
  },
  {
   "cell_type": "markdown",
   "metadata": {
    "slideshow": {
     "slide_type": "subslide"
    }
   },
   "source": [
    "#### Tipos de gráficos\n",
    "\n",
    "![graficos.png](./images/conocimiento/graficos.png)\n",
    "\n",
    "https://www.slingshotapp.io/blog/9-best-data-visualization-examples"
   ]
  },
  {
   "cell_type": "markdown",
   "metadata": {
    "slideshow": {
     "slide_type": "fragment"
    }
   },
   "source": [
    "![graficos2.png](./images/conocimiento/graficos2.png)\n"
   ]
  },
  {
   "cell_type": "markdown",
   "metadata": {
    "slideshow": {
     "slide_type": "subslide"
    }
   },
   "source": [
    "### Códigos visuales\n",
    "\n",
    "![codigos.png](./images/conocimiento/codigos.png)"
   ]
  },
  {
   "cell_type": "markdown",
   "metadata": {},
   "source": [
    "![scatter_example_coding.png](./images/conocimiento/scatter_example_coding.png)"
   ]
  },
  {
   "cell_type": "markdown",
   "metadata": {},
   "source": [
    "![napoleon.png](./images/conocimiento/napoleon.png)"
   ]
  },
  {
   "cell_type": "markdown",
   "metadata": {
    "slideshow": {
     "slide_type": "slide"
    }
   },
   "source": [
    "## Calidad de los datos"
   ]
  },
  {
   "cell_type": "markdown",
   "metadata": {
    "slideshow": {
     "slide_type": "subslide"
    }
   },
   "source": [
    "### Completitud\n",
    "\n",
    "* Se refiere a la proporción de datos que se encuentran perdidos en el conjunto de datos.\n",
    "* Pueden existir filas, columnas, o celdas en blanco. \n",
    "* En algunos casos los datos se pierden por problemas en el canal, o porque no se han recolectado, o porque la fuente se encuentra corrupta. \n",
    "* En otros casos, la falta de datos puede ser un dato en si mismo. "
   ]
  },
  {
   "cell_type": "markdown",
   "metadata": {
    "slideshow": {
     "slide_type": "subslide"
    }
   },
   "source": [
    "### Temporalidad\n",
    "\n",
    "* Se refiere a la antigüedad de los datos. \n",
    "* Datos desactualizados pueden no ser representativos de la realidad. \n",
    "* No tiene sentido determinar cómo se comporta un virus con datos del 2000, si es un virus que muta constantemente. \n",
    "* Datos complétos pero desactualizados pueden no ser útiles."
   ]
  },
  {
   "cell_type": "markdown",
   "metadata": {
    "slideshow": {
     "slide_type": "subslide"
    }
   },
   "source": [
    "### Validez\n",
    "\n",
    "* Los datos son válidos si no siguen formatos, reglas o procesos adecuados para el problema a solucionar.\n",
    "* Por ejemplo, la recolección de datos para un estudio clínico debe ser doble ciego. \n",
    "* En algunos casos, la codificación de datos está realizada de forma inadecuada, y se necesita re-codificarlos. \n",
    "* Los datos obtenidos de forma ilegal o de forma poco étic también pueden considerarse inválidos."
   ]
  },
  {
   "cell_type": "markdown",
   "metadata": {},
   "source": [
    "### Integridad\n",
    "\n",
    "Integrity of data refers to the level at which the information is reliable and trustworthy. Is the data true and factual? For example, if your database has an email address assigned to a specific customer, and it turns out that the customer actually deleted that account years ago, then there would be an issue with data integrity as well as timeliness."
   ]
  },
  {
   "cell_type": "markdown",
   "metadata": {},
   "source": [
    "### Consistencia\n",
    "\n",
    "Consistency of data is most often associated with analytics. It ensures that the source of the information collection is capturing the correct data based on the unique objectives of the department or company.\n",
    "\n",
    "For example, let’s say you have two similar pieces of information:\n",
    "\n",
    "the date on file for the opening of a customer’s account vs.\n",
    "\n",
    "the last time they logged into their account.\n",
    "\n",
    "The difference in these dates may provide valuable insights into the success rates of current or future marketing campaigns.\n",
    "\n",
    "Determining the overall quality of company data is a never-ending process. The most crucial components of effective data quality management are the identification and resolution of potential issues quickly and proactively."
   ]
  },
  {
   "cell_type": "markdown",
   "metadata": {},
   "source": [
    "## Bibliografía adicional\n",
    "\n",
    "*  Josep Ferrer (2023), Data Visualization: Theory and Techniques. KDnuggets. https://www.kdnuggets.com/data-visualization-theory-and-techniques\n",
    "* Data Visualization Chart types. https://www.datylon.com/blog/types-of-charts-graphs-examples-data-visualization"
   ]
  }
 ],
 "metadata": {
  "language_info": {
   "codemirror_mode": {
    "name": "ipython",
    "version": 3
   },
   "file_extension": ".py",
   "mimetype": "text/x-python",
   "name": "python",
   "nbconvert_exporter": "python",
   "pygments_lexer": "ipython3",
   "version": "3.9.13"
  }
 },
 "nbformat": 4,
 "nbformat_minor": 2
}